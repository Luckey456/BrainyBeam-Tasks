{
  "nbformat": 4,
  "nbformat_minor": 0,
  "metadata": {
    "colab": {
      "provenance": []
    },
    "kernelspec": {
      "name": "python3",
      "display_name": "Python 3"
    },
    "language_info": {
      "name": "python"
    }
  },
  "cells": [
    {
      "cell_type": "code",
      "execution_count": 1,
      "metadata": {
        "id": "zU2_24PXGmCr"
      },
      "outputs": [],
      "source": [
        "import numpy as np\n",
        "from scipy.sparse import random\n",
        "from scipy.sparse.linalg import eigs\n",
        "\n",
        "\n",
        "\n",
        "\n",
        "\n"
      ]
    },
    {
      "cell_type": "code",
      "source": [
        "n = 1000\n",
        "density = 0.01\n",
        "sparse_matrix = random(n, n, density=density, format='csr', dtype=np.float64)\n",
        "\n",
        "\n",
        "sparse_matrix = (sparse_matrix + sparse_matrix.T) / 2\n",
        "\n",
        "\n",
        "num_eigenvalues = 5\n",
        "eigenvalues, eigenvectors = eigs(sparse_matrix, k=num_eigenvalues)\n"
      ],
      "metadata": {
        "id": "6GNMLnR0HgNe"
      },
      "execution_count": 2,
      "outputs": []
    },
    {
      "cell_type": "code",
      "source": [
        "\n",
        "print(\"Eigenvalues:\")\n",
        "print(eigenvalues)\n",
        "\n",
        "print(\"\\nEigenvectors (columns correspond to eigenvalues):\")\n",
        "print(eigenvectors)"
      ],
      "metadata": {
        "id": "ZfUY2XtDHuSP",
        "outputId": "6e29c303-15d9-4770-d081-75138d023b93",
        "colab": {
          "base_uri": "https://localhost:8080/"
        }
      },
      "execution_count": 3,
      "outputs": [
        {
          "output_type": "stream",
          "name": "stdout",
          "text": [
            "Eigenvalues:\n",
            "[ 5.36919039+0.j -2.66290027+0.j -2.63618908+0.j -2.61447509+0.j\n",
            "  2.6215027 +0.j]\n",
            "\n",
            "Eigenvectors (columns correspond to eigenvalues):\n",
            "[[ 0.04786357+0.j -0.09542429+0.j  0.10884467+0.j  0.08413762+0.j\n",
            "  -0.12354874+0.j]\n",
            " [ 0.01999064+0.j  0.00894895+0.j  0.00608164+0.j -0.00892774+0.j\n",
            "  -0.01767353+0.j]\n",
            " [ 0.02241458+0.j  0.02230555+0.j  0.00109903+0.j -0.01801545+0.j\n",
            "  -0.00475316+0.j]\n",
            " ...\n",
            " [ 0.02683146+0.j  0.02161712+0.j -0.01010833+0.j  0.03087289+0.j\n",
            "   0.02935916+0.j]\n",
            " [ 0.01994508+0.j  0.00752316+0.j -0.02130966+0.j  0.00143565+0.j\n",
            "   0.02336759+0.j]\n",
            " [ 0.03639564+0.j -0.00549039+0.j  0.0204848 +0.j -0.05364424+0.j\n",
            "   0.01895162+0.j]]\n"
          ]
        }
      ]
    }
  ]
}