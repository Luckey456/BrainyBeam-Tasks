{
  "nbformat": 4,
  "nbformat_minor": 0,
  "metadata": {
    "colab": {
      "provenance": []
    },
    "kernelspec": {
      "name": "python3",
      "display_name": "Python 3"
    },
    "language_info": {
      "name": "python"
    }
  },
  "cells": [
    {
      "cell_type": "code",
      "execution_count": 4,
      "metadata": {
        "colab": {
          "base_uri": "https://localhost:8080/"
        },
        "id": "JkZ-nxNSH5H1",
        "outputId": "775b4db6-dd35-4a79-8027-747ec110b150"
      },
      "outputs": [
        {
          "output_type": "stream",
          "name": "stdout",
          "text": [
            "Filter Method - Selected Features: ['perimeter_mean', 'concave points_mean', 'radius_worst', 'perimeter_worst', 'concave points_worst']\n",
            "Wrapper Method - Selected Features: ['radius_se', 'radius_worst', 'texture_worst', 'area_worst', 'concave points_worst']\n",
            "Embedded Method - Selected Features: ['concave points_mean', 'radius_worst', 'perimeter_worst', 'area_worst', 'concave points_worst']\n",
            "\n",
            "Model Accuracy: 95.61%\n",
            "\n",
            "Classification Report:\n",
            "              precision    recall  f1-score   support\n",
            "\n",
            "           0       0.96      0.97      0.97        71\n",
            "           1       0.95      0.93      0.94        43\n",
            "\n",
            "    accuracy                           0.96       114\n",
            "   macro avg       0.96      0.95      0.95       114\n",
            "weighted avg       0.96      0.96      0.96       114\n",
            "\n"
          ]
        }
      ],
      "source": [
        "import numpy as np\n",
        "import pandas as pd\n",
        "from sklearn.model_selection import train_test_split\n",
        "from sklearn.preprocessing import StandardScaler\n",
        "from sklearn.feature_selection import (\n",
        "    SelectKBest,\n",
        "    f_classif,\n",
        "    RFE,\n",
        "    SelectFromModel\n",
        ")\n",
        "from sklearn.ensemble import RandomForestClassifier\n",
        "from sklearn.linear_model import LogisticRegression\n",
        "from sklearn.metrics import accuracy_score, classification_report\n",
        "\n",
        "data = pd.read_csv('/content/breast-cancer.csv')\n",
        "\n",
        "\n",
        "X = data.drop(['diagnosis'], axis=1)\n",
        "y = data['diagnosis'].map({'M': 1, 'B': 0})\n",
        "\n",
        "\n",
        "X_train, X_test, y_train, y_test = train_test_split(X, y, test_size=0.2, random_state=42)\n",
        "\n",
        "\n",
        "scaler = StandardScaler()\n",
        "X_train_scaled = scaler.fit_transform(X_train)\n",
        "X_test_scaled = scaler.transform(X_test)\n",
        "\n",
        "\n",
        "selector_filter = SelectKBest(score_func=f_classif, k=5)\n",
        "X_train_filter = selector_filter.fit_transform(X_train_scaled, y_train)\n",
        "X_test_filter = selector_filter.transform(X_test_scaled)\n",
        "\n",
        "\n",
        "filter_feature_names = X.columns[selector_filter.get_support()].tolist()\n",
        "print(\"Filter Method - Selected Features:\", filter_feature_names)\n",
        "\n",
        "\n",
        "selector_wrapper = RFE(estimator=LogisticRegression(), n_features_to_select=5)\n",
        "X_train_wrapper = selector_wrapper.fit_transform(X_train_scaled, y_train)\n",
        "X_test_wrapper = selector_wrapper.transform(X_test_scaled)\n",
        "\n",
        "wrapper_feature_names = X.columns[selector_wrapper.support_].tolist()\n",
        "print(\"Wrapper Method - Selected Features:\", wrapper_feature_names)\n",
        "\n",
        "\n",
        "selector_embedded = SelectFromModel(RandomForestClassifier(), prefit=False, max_features=5)\n",
        "X_train_embedded = selector_embedded.fit_transform(X_train_scaled, y_train)\n",
        "X_test_embedded = selector_embedded.transform(X_test_scaled)\n",
        "\n",
        "\n",
        "embedded_feature_names = X.columns[selector_embedded.get_support()].tolist()\n",
        "print(\"Embedded Method - Selected Features:\", embedded_feature_names)\n",
        "\n",
        "\n",
        "clf = RandomForestClassifier(n_estimators=100, random_state=42)\n",
        "clf.fit(X_train_embedded, y_train)\n",
        "\n",
        "\n",
        "y_pred = clf.predict(X_test_embedded)\n",
        "accuracy = accuracy_score(y_test, y_pred)\n",
        "print(f\"\\nModel Accuracy: {accuracy * 100:.2f}%\")\n",
        "print(\"\\nClassification Report:\")\n",
        "print(classification_report(y_test, y_pred))"
      ]
    }
  ]
}