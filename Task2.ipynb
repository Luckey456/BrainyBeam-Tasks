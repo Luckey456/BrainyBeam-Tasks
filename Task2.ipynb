{
  "nbformat": 4,
  "nbformat_minor": 0,
  "metadata": {
    "colab": {
      "provenance": []
    },
    "kernelspec": {
      "name": "python3",
      "display_name": "Python 3"
    },
    "language_info": {
      "name": "python"
    }
  },
  "cells": [
    {
      "cell_type": "code",
      "execution_count": 1,
      "metadata": {
        "id": "8zHc1bCaEaEX"
      },
      "outputs": [],
      "source": [
        "import numpy as np\n",
        "\n",
        "\n",
        "\n"
      ]
    },
    {
      "cell_type": "code",
      "source": [
        "array = np.array([\n",
        "    [1, 2, 3],\n",
        "    [4, 5, 6],\n",
        "    [7, 8, 9]\n",
        "])\n",
        "\n",
        "\n",
        "row_sums = array.sum(axis=1, keepdims=True)\n",
        "\n",
        "\n",
        "normalized_array = array / row_sums\n",
        "\n"
      ],
      "metadata": {
        "id": "svYdf-lREySD"
      },
      "execution_count": 2,
      "outputs": []
    },
    {
      "cell_type": "code",
      "source": [
        "print(\"Original Array:\")\n",
        "print(array)\n",
        "\n",
        "print(\"\\nRow-Wise Normalized Array:\")\n",
        "print(normalized_array)"
      ],
      "metadata": {
        "colab": {
          "base_uri": "https://localhost:8080/"
        },
        "id": "bMNdN-mBE1QW",
        "outputId": "c9d13869-01cf-4a31-978d-968a7b31f11c"
      },
      "execution_count": 3,
      "outputs": [
        {
          "output_type": "stream",
          "name": "stdout",
          "text": [
            "Original Array:\n",
            "[[1 2 3]\n",
            " [4 5 6]\n",
            " [7 8 9]]\n",
            "\n",
            "Row-Wise Normalized Array:\n",
            "[[0.16666667 0.33333333 0.5       ]\n",
            " [0.26666667 0.33333333 0.4       ]\n",
            " [0.29166667 0.33333333 0.375     ]]\n"
          ]
        }
      ]
    }
  ]
}